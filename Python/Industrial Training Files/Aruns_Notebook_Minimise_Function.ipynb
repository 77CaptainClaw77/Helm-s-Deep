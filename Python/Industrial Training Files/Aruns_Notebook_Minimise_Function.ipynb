{
 "cells": [
  {
   "cell_type": "code",
   "execution_count": 1,
   "metadata": {},
   "outputs": [],
   "source": [
    "import numpy as np, pandas as pd, matplotlib.pyplot as plt\n",
    "%matplotlib inline\n",
    "from scipy.io import loadmat\n",
    "import copy "
   ]
  },
  {
   "cell_type": "code",
   "execution_count": 3,
   "metadata": {},
   "outputs": [],
   "source": [
    "data = loadmat(\"prob3data1.mat\")"
   ]
  },
  {
   "cell_type": "code",
   "execution_count": 4,
   "metadata": {},
   "outputs": [
    {
     "data": {
      "text/plain": [
       "{'__header__': b'MATLAB 5.0 MAT-file, Platform: GLNXA64, Created on: Sun Oct 16 13:09:09 2011',\n",
       " '__version__': '1.0',\n",
       " '__globals__': [],\n",
       " 'X': array([[0., 0., 0., ..., 0., 0., 0.],\n",
       "        [0., 0., 0., ..., 0., 0., 0.],\n",
       "        [0., 0., 0., ..., 0., 0., 0.],\n",
       "        ...,\n",
       "        [0., 0., 0., ..., 0., 0., 0.],\n",
       "        [0., 0., 0., ..., 0., 0., 0.],\n",
       "        [0., 0., 0., ..., 0., 0., 0.]]),\n",
       " 'y': array([[10],\n",
       "        [10],\n",
       "        [10],\n",
       "        ...,\n",
       "        [ 9],\n",
       "        [ 9],\n",
       "        [ 9]], dtype=uint8)}"
      ]
     },
     "execution_count": 4,
     "metadata": {},
     "output_type": "execute_result"
    }
   ],
   "source": [
    "data"
   ]
  },
  {
   "cell_type": "code",
   "execution_count": 5,
   "metadata": {},
   "outputs": [
    {
     "name": "stdout",
     "output_type": "stream",
     "text": [
      "[2]\n"
     ]
    },
    {
     "data": {
      "image/png": "[encoded data removed]",
      "text/plain": [
       "<Figure size 432x288 with 1 Axes>"
      ]
     },
     "metadata": {
      "needs_background": "light"
     },
     "output_type": "display_data"
    }
   ],
   "source": [
    "X = data['X']\n",
    "y = data['y']\n",
    "number = np.reshape(X[1234,:], (20, 20))\n",
    "plt.imshow(number)\n",
    "print(y[1234])"
   ]
  },
  {
   "cell_type": "code",
   "execution_count": 6,
   "metadata": {},
   "outputs": [],
   "source": [
    "def sigmoid(z):\n",
    "    return (1/(1+np.exp(-z)))"
   ]
  },
  {
   "cell_type": "code",
   "execution_count": 7,
   "metadata": {},
   "outputs": [
    {
     "data": {
      "text/plain": [
       "0.5"
      ]
     },
     "execution_count": 7,
     "metadata": {},
     "output_type": "execute_result"
    }
   ],
   "source": [
    "sigmoid(0)"
   ]
  },
  {
   "cell_type": "code",
   "execution_count": 8,
   "metadata": {},
   "outputs": [
    {
     "data": {
      "text/plain": [
       "0.7310585786300049"
      ]
     },
     "execution_count": 8,
     "metadata": {},
     "output_type": "execute_result"
    }
   ],
   "source": [
    "sigmoid(1)"
   ]
  },
  {
   "cell_type": "code",
   "execution_count": 9,
   "metadata": {},
   "outputs": [],
   "source": [
    "#theta = np.matrix(np.zeros((1,401)))"
   ]
  },
  {
   "cell_type": "code",
   "execution_count": 10,
   "metadata": {},
   "outputs": [],
   "source": [
    "#theta"
   ]
  },
  {
   "cell_type": "code",
   "execution_count": 11,
   "metadata": {},
   "outputs": [],
   "source": [
    "def cost(theta, X, y):  \n",
    "    theta = np.matrix(theta)\n",
    "    X = np.matrix(X)\n",
    "    y = np.matrix(y)\n",
    "    first = np.multiply(-y, np.log(sigmoid(X * theta.T)))\n",
    "    second = np.multiply((1 - y), np.log(1 - sigmoid(X * theta.T)))\n",
    "    return np.sum(first - second) / (len(X))"
   ]
  },
  {
   "cell_type": "code",
   "execution_count": 12,
   "metadata": {},
   "outputs": [
    {
     "data": {
      "text/plain": [
       "array([ 1,  2,  3,  4,  5,  6,  7,  8,  9, 10], dtype=uint8)"
      ]
     },
     "execution_count": 12,
     "metadata": {},
     "output_type": "execute_result"
    }
   ],
   "source": [
    "np.unique(y)"
   ]
  },
  {
   "cell_type": "code",
   "execution_count": 13,
   "metadata": {},
   "outputs": [
    {
     "data": {
      "text/plain": [
       "array([[10],\n",
       "       [10],\n",
       "       [10],\n",
       "       ...,\n",
       "       [ 9],\n",
       "       [ 9],\n",
       "       [ 9]], dtype=uint8)"
      ]
     },
     "execution_count": 13,
     "metadata": {},
     "output_type": "execute_result"
    }
   ],
   "source": [
    "y"
   ]
  },
  {
   "cell_type": "code",
   "execution_count": 14,
   "metadata": {},
   "outputs": [
    {
     "data": {
      "text/plain": [
       "27500"
      ]
     },
     "execution_count": 14,
     "metadata": {},
     "output_type": "execute_result"
    }
   ],
   "source": [
    "np.sum(y)"
   ]
  },
  {
   "cell_type": "code",
   "execution_count": 15,
   "metadata": {},
   "outputs": [
    {
     "data": {
      "text/plain": [
       "array([[0., 0., 0., ..., 0., 0., 0.],\n",
       "       [0., 0., 0., ..., 0., 0., 0.],\n",
       "       [0., 0., 0., ..., 0., 0., 0.],\n",
       "       ...,\n",
       "       [0., 0., 0., ..., 0., 0., 0.],\n",
       "       [0., 0., 0., ..., 0., 0., 0.],\n",
       "       [0., 0., 0., ..., 0., 0., 0.]])"
      ]
     },
     "execution_count": 15,
     "metadata": {},
     "output_type": "execute_result"
    }
   ],
   "source": [
    "X"
   ]
  },
  {
   "cell_type": "code",
   "execution_count": 16,
   "metadata": {},
   "outputs": [],
   "source": [
    "#X = np.matrix(X)\n",
    "#y = np.matrix(y)"
   ]
  },
  {
   "cell_type": "code",
   "execution_count": 17,
   "metadata": {},
   "outputs": [
    {
     "data": {
      "text/plain": [
       "(5000, 400)"
      ]
     },
     "execution_count": 17,
     "metadata": {},
     "output_type": "execute_result"
    }
   ],
   "source": [
    "X.shape"
   ]
  },
  {
   "cell_type": "code",
   "execution_count": 18,
   "metadata": {},
   "outputs": [
    {
     "data": {
      "text/plain": [
       "(5000, 1)"
      ]
     },
     "execution_count": 18,
     "metadata": {},
     "output_type": "execute_result"
    }
   ],
   "source": [
    "y.shape"
   ]
  },
  {
   "cell_type": "code",
   "execution_count": 19,
   "metadata": {},
   "outputs": [],
   "source": [
    "#X = np.insert(X,0,1,axis=1)"
   ]
  },
  {
   "cell_type": "code",
   "execution_count": 20,
   "metadata": {},
   "outputs": [],
   "source": [
    "#X"
   ]
  },
  {
   "cell_type": "code",
   "execution_count": 21,
   "metadata": {},
   "outputs": [],
   "source": [
    "#cost(theta,X,y)"
   ]
  },
  {
   "cell_type": "code",
   "execution_count": 22,
   "metadata": {},
   "outputs": [],
   "source": [
    "def gradient(theta, X, y):  \n",
    "    theta = np.matrix(theta)\n",
    "    X = np.matrix(X)\n",
    "    y = np.matrix(y)\n",
    "\n",
    "    parameters = int(theta.ravel().shape[1])\n",
    "    grad = np.zeros(parameters)\n",
    "\n",
    "    error = sigmoid(X * theta.T) - y\n",
    "\n",
    "    for i in range(parameters):\n",
    "        term = np.multiply(error, X[:,i])\n",
    "        grad[i] = (np.sum(term) / len(X))\n",
    "\n",
    "    return grad"
   ]
  },
  {
   "cell_type": "code",
   "execution_count": 23,
   "metadata": {},
   "outputs": [],
   "source": [
    "from scipy.optimize import minimize"
   ]
  },
  {
   "cell_type": "code",
   "execution_count": 24,
   "metadata": {},
   "outputs": [],
   "source": [
    "def final_theta_computation(X, y):  \n",
    "    rows = X.shape[0]\n",
    "    params = X.shape[1]\n",
    "    num_labels = 10\n",
    "    # k X (n + 1) array for the parameters of each of the k classifiers\n",
    "    all_theta = np.zeros((num_labels, params + 1))\n",
    "\n",
    "    # insert a column of ones at the beginning for the intercept term\n",
    "    X = np.insert(X, 0, values=np.ones(rows), axis=1)\n",
    "\n",
    "    # labels are 1-indexed instead of 0-indexed\n",
    "    for i in range(1, num_labels + 1):\n",
    "        theta = np.zeros(params + 1)\n",
    "        y_i = np.array([1 if label == i else 0 for label in y])\n",
    "        y_i = np.reshape(y_i, (rows, 1))\n",
    "\n",
    "        # minimize the objective function\n",
    "        fmin = minimize(fun=cost, x0=theta, args=(X, y_i), method='TNC', jac=gradient)\n",
    "        all_theta[i-1,:] = fmin.x\n",
    "\n",
    "    return all_theta"
   ]
  },
  {
   "cell_type": "code",
   "execution_count": 25,
   "metadata": {},
   "outputs": [
    {
     "data": {
      "text/plain": [
       "(5000, 1)"
      ]
     },
     "execution_count": 25,
     "metadata": {},
     "output_type": "execute_result"
    }
   ],
   "source": [
    "y.shape"
   ]
  },
  {
   "cell_type": "code",
   "execution_count": 26,
   "metadata": {},
   "outputs": [
    {
     "name": "stderr",
     "output_type": "stream",
     "text": [
      "C:\\Anaconda\\envs\\rstudio\\lib\\site-packages\\ipykernel_launcher.py:6: RuntimeWarning: divide by zero encountered in log\n",
      "  \n",
      "C:\\Anaconda\\envs\\rstudio\\lib\\site-packages\\ipykernel_launcher.py:6: RuntimeWarning: invalid value encountered in multiply\n",
      "  \n",
      "C:\\Anaconda\\envs\\rstudio\\lib\\site-packages\\ipykernel_launcher.py:5: RuntimeWarning: divide by zero encountered in log\n",
      "  \"\"\"\n",
      "C:\\Anaconda\\envs\\rstudio\\lib\\site-packages\\ipykernel_launcher.py:5: RuntimeWarning: invalid value encountered in multiply\n",
      "  \"\"\"\n"
     ]
    }
   ],
   "source": [
    "a = final_theta_computation(X,y)"
   ]
  },
  {
   "cell_type": "code",
   "execution_count": 27,
   "metadata": {},
   "outputs": [
    {
     "data": {
      "text/plain": [
       "(10, 401)"
      ]
     },
     "execution_count": 27,
     "metadata": {},
     "output_type": "execute_result"
    }
   ],
   "source": [
    "a.shape"
   ]
  },
  {
   "cell_type": "code",
   "execution_count": 28,
   "metadata": {},
   "outputs": [
    {
     "data": {
      "text/plain": [
       "numpy.ndarray"
      ]
     },
     "execution_count": 28,
     "metadata": {},
     "output_type": "execute_result"
    }
   ],
   "source": [
    "type(a)"
   ]
  },
  {
   "cell_type": "code",
   "execution_count": 29,
   "metadata": {},
   "outputs": [
    {
     "data": {
      "text/plain": [
       "array([[-4.86087706e+00,  0.00000000e+00,  0.00000000e+00, ...,\n",
       "         9.09880173e-03,  2.88128121e-07,  0.00000000e+00],\n",
       "       [-5.68297203e+00,  0.00000000e+00,  0.00000000e+00, ...,\n",
       "         5.68895648e-02, -6.27323622e-03,  0.00000000e+00],\n",
       "       [-8.75563138e+00,  0.00000000e+00,  0.00000000e+00, ...,\n",
       "        -2.70331373e-04, -1.20151543e-06,  0.00000000e+00],\n",
       "       ...,\n",
       "       [-1.35226084e+01,  0.00000000e+00,  0.00000000e+00, ...,\n",
       "        -7.44002554e+00,  8.59346995e-01,  0.00000000e+00],\n",
       "       [-8.52188587e+00,  0.00000000e+00,  0.00000000e+00, ...,\n",
       "        -1.86240317e-01,  8.50768097e-03,  0.00000000e+00],\n",
       "       [-1.06742930e+01,  0.00000000e+00,  0.00000000e+00, ...,\n",
       "         1.00538889e-03,  4.42714027e-05,  0.00000000e+00]])"
      ]
     },
     "execution_count": 29,
     "metadata": {},
     "output_type": "execute_result"
    }
   ],
   "source": [
    "a"
   ]
  },
  {
   "cell_type": "code",
   "execution_count": 30,
   "metadata": {},
   "outputs": [],
   "source": [
    "X = np.insert(X,0,1,axis=1)"
   ]
  },
  {
   "cell_type": "code",
   "execution_count": 31,
   "metadata": {},
   "outputs": [],
   "source": [
    "X = np.matrix(X)\n",
    "a = np.matrix(a)"
   ]
  },
  {
   "cell_type": "code",
   "execution_count": 32,
   "metadata": {},
   "outputs": [],
   "source": [
    "p = sigmoid(X*a.T)"
   ]
  },
  {
   "cell_type": "code",
   "execution_count": 33,
   "metadata": {},
   "outputs": [
    {
     "data": {
      "text/plain": [
       "(5000, 10)"
      ]
     },
     "execution_count": 33,
     "metadata": {},
     "output_type": "execute_result"
    }
   ],
   "source": [
    "p.shape\n",
    "#type(p)"
   ]
  },
  {
   "cell_type": "code",
   "execution_count": 34,
   "metadata": {},
   "outputs": [
    {
     "data": {
      "text/plain": [
       "matrix([[2.42351328e-27, 4.97138732e-08, 1.14643400e-09, ...,\n",
       "         3.52036856e-08, 8.22587304e-14, 9.99999586e-01],\n",
       "        [1.52611951e-21, 1.95773238e-11, 1.72279462e-08, ...,\n",
       "         4.33569207e-12, 1.94038323e-35, 9.99999997e-01],\n",
       "        [1.07588060e-25, 2.18755174e-05, 2.06454279e-05, ...,\n",
       "         9.47002448e-05, 8.25797854e-05, 9.99999987e-01],\n",
       "        ...,\n",
       "        [1.79406874e-03, 4.34638793e-06, 5.80779419e-01, ...,\n",
       "         9.45789133e-04, 7.72756966e-01, 1.08845805e-15],\n",
       "        [9.27703056e-20, 1.10840719e-17, 4.54063444e-07, ...,\n",
       "         3.33153520e-08, 8.64760603e-01, 1.41298207e-12],\n",
       "        [8.80962243e-33, 6.73936995e-14, 1.28204806e-14, ...,\n",
       "         2.37964210e-01, 3.62782226e-01, 4.81189037e-04]])"
      ]
     },
     "execution_count": 34,
     "metadata": {},
     "output_type": "execute_result"
    }
   ],
   "source": [
    "p"
   ]
  },
  {
   "cell_type": "code",
   "execution_count": 35,
   "metadata": {},
   "outputs": [
    {
     "data": {
      "text/plain": [
       "((5000, 10), numpy.matrix)"
      ]
     },
     "execution_count": 35,
     "metadata": {},
     "output_type": "execute_result"
    }
   ],
   "source": [
    "p.shape, type(p)"
   ]
  },
  {
   "cell_type": "code",
   "execution_count": 36,
   "metadata": {},
   "outputs": [],
   "source": [
    "arr = np.zeros((5000,1))"
   ]
  },
  {
   "cell_type": "code",
   "execution_count": 37,
   "metadata": {},
   "outputs": [],
   "source": [
    "for i in range(5000):\n",
    "    arr[i] = np.argmax(p[i])+1"
   ]
  },
  {
   "cell_type": "code",
   "execution_count": 38,
   "metadata": {},
   "outputs": [
    {
     "data": {
      "text/plain": [
       "array([[10.],\n",
       "       [10.],\n",
       "       [10.],\n",
       "       ...,\n",
       "       [ 9.],\n",
       "       [ 9.],\n",
       "       [ 9.]])"
      ]
     },
     "execution_count": 38,
     "metadata": {},
     "output_type": "execute_result"
    }
   ],
   "source": [
    "arr"
   ]
  },
  {
   "cell_type": "code",
   "execution_count": 39,
   "metadata": {},
   "outputs": [
    {
     "data": {
      "text/plain": [
       "matrix([[7.01130615e-15, 4.71551544e-01, 2.24566886e-14, 9.35059364e-01,\n",
       "         4.09283293e-09, 6.07801606e-06, 6.06301963e-02, 1.51907065e-99,\n",
       "         5.30829346e-68, 7.67638567e-13]])"
      ]
     },
     "execution_count": 39,
     "metadata": {},
     "output_type": "execute_result"
    }
   ],
   "source": [
    "p[2000]\n"
   ]
  },
  {
   "cell_type": "code",
   "execution_count": 40,
   "metadata": {},
   "outputs": [
    {
     "name": "stdout",
     "output_type": "stream",
     "text": [
      "4849\n"
     ]
    }
   ],
   "source": [
    "r=0\n",
    "for i in range(len(arr)):\n",
    "    if arr[i]==y[i]:\n",
    "            r+=1\n",
    "print(r)"
   ]
  },
  {
   "cell_type": "code",
   "execution_count": 41,
   "metadata": {},
   "outputs": [
    {
     "data": {
      "text/plain": [
       "96.98"
      ]
     },
     "execution_count": 41,
     "metadata": {},
     "output_type": "execute_result"
    }
   ],
   "source": [
    "r/50"
   ]
  },
  {
   "cell_type": "code",
   "execution_count": 42,
   "metadata": {},
   "outputs": [
    {
     "data": {
      "text/plain": [
       "array([[10],\n",
       "       [10],\n",
       "       [10],\n",
       "       ...,\n",
       "       [ 9],\n",
       "       [ 9],\n",
       "       [ 9]], dtype=uint8)"
      ]
     },
     "execution_count": 42,
     "metadata": {},
     "output_type": "execute_result"
    }
   ],
   "source": [
    "y"
   ]
  },
  {
   "cell_type": "code",
   "execution_count": 43,
   "metadata": {},
   "outputs": [],
   "source": [
    "X = np.matrix(X)\n",
    "y = np.matrix(y)"
   ]
  },
  {
   "cell_type": "code",
   "execution_count": 44,
   "metadata": {},
   "outputs": [
    {
     "data": {
      "text/plain": [
       "matrix([[ 1.00000000e+00,  0.00000000e+00,  0.00000000e+00,\n",
       "          0.00000000e+00,  0.00000000e+00,  0.00000000e+00,\n",
       "          0.00000000e+00,  0.00000000e+00,  0.00000000e+00,\n",
       "          0.00000000e+00,  0.00000000e+00,  0.00000000e+00,\n",
       "          0.00000000e+00,  0.00000000e+00,  0.00000000e+00,\n",
       "          0.00000000e+00,  0.00000000e+00,  0.00000000e+00,\n",
       "          0.00000000e+00,  0.00000000e+00,  0.00000000e+00,\n",
       "          0.00000000e+00,  0.00000000e+00,  0.00000000e+00,\n",
       "          0.00000000e+00,  0.00000000e+00,  0.00000000e+00,\n",
       "          0.00000000e+00,  0.00000000e+00,  0.00000000e+00,\n",
       "          0.00000000e+00,  0.00000000e+00,  0.00000000e+00,\n",
       "          0.00000000e+00,  0.00000000e+00,  0.00000000e+00,\n",
       "          2.34034586e-04, -2.66799428e-03, -8.79210659e-03,\n",
       "          9.36138344e-05,  0.00000000e+00,  0.00000000e+00,\n",
       "          0.00000000e+00,  0.00000000e+00,  0.00000000e+00,\n",
       "          0.00000000e+00,  0.00000000e+00,  0.00000000e+00,\n",
       "          0.00000000e+00,  0.00000000e+00,  0.00000000e+00,\n",
       "          0.00000000e+00,  0.00000000e+00,  0.00000000e+00,\n",
       "          0.00000000e+00,  0.00000000e+00, -4.19112551e-04,\n",
       "          4.77788309e-03,  3.97877318e-02, -1.67645021e-04,\n",
       "          0.00000000e+00,  0.00000000e+00,  0.00000000e+00,\n",
       "          0.00000000e+00,  7.50612745e-06, -7.60314542e-05,\n",
       "         -9.64307598e-04, -1.62683824e-04,  2.20129632e-05,\n",
       "          0.00000000e+00,  0.00000000e+00,  0.00000000e+00,\n",
       "          0.00000000e+00,  0.00000000e+00,  0.00000000e+00,\n",
       "          2.56433824e-04, -2.34218920e-02,  2.37967014e-01,\n",
       "          6.06858380e-01, -8.46269063e-03,  0.00000000e+00,\n",
       "          0.00000000e+00,  0.00000000e+00,  0.00000000e+00,\n",
       "          2.91615605e-04, -3.55798952e-03, -2.23461499e-02,\n",
       "         -1.88023897e-02, -9.39219763e-04,  2.45098039e-04,\n",
       "          0.00000000e+00,  0.00000000e+00,  0.00000000e+00,\n",
       "          0.00000000e+00,  2.11397059e-05, -2.79473039e-03,\n",
       "         -2.44645118e-02,  5.39744485e-01,  8.90832875e-01,\n",
       "         -1.78176062e-02,  0.00000000e+00,  0.00000000e+00,\n",
       "          0.00000000e+00,  0.00000000e+00, -3.61315359e-03,\n",
       "          4.09448870e-02,  3.56328431e-01,  1.60278833e-01,\n",
       "         -2.12245050e-03, -1.50122549e-03,  0.00000000e+00,\n",
       "          0.00000000e+00,  0.00000000e+00,  0.00000000e+00,\n",
       "         -1.02481618e-04, -2.48019301e-02,  1.89548866e-01,\n",
       "          9.17976290e-01,  8.44585490e-01, -2.07480596e-02,\n",
       "          0.00000000e+00,  0.00000000e+00,  0.00000000e+00,\n",
       "          0.00000000e+00, -1.10029105e-02,  1.27023540e-01,\n",
       "          9.87285403e-01,  7.09796467e-01,  5.85104901e-02,\n",
       "         -1.73800041e-02,  2.93777233e-04,  3.37009804e-05,\n",
       "          0.00000000e+00,  0.00000000e+00, -7.47446895e-04,\n",
       "         -2.83387800e-02,  3.80835274e-01,  1.02937284e+00,\n",
       "          6.16241304e-01, -2.06990400e-02,  0.00000000e+00,\n",
       "          0.00000000e+00,  0.00000000e+00,  2.92895976e-05,\n",
       "         -2.02880539e-02,  2.89616115e-01,  1.00879248e+00,\n",
       "          7.52598821e-01,  1.25151162e-01,  8.52616757e-03,\n",
       "         -1.71286332e-02,  5.53483348e-04,  4.28029840e-05,\n",
       "          3.80764769e-04, -1.26265745e-02,  9.55610248e-02,\n",
       "          8.20871941e-01,  1.03918457e+00,  4.60505444e-01,\n",
       "         -2.10169445e-02,  0.00000000e+00,  0.00000000e+00,\n",
       "          0.00000000e+00, -1.22294240e-04, -2.85264502e-02,\n",
       "          4.66577972e-01,  1.00041265e+00,  1.01227582e+00,\n",
       "          8.55512600e-01,  5.89941942e-01,  8.68640557e-02,\n",
       "         -2.33197168e-02,  2.35396242e-05, -2.38993518e-03,\n",
       "         -9.57986111e-03,  4.84063589e-01,  1.02487258e+00,\n",
       "          9.01342576e-01,  1.21578615e-01, -1.64879493e-02,\n",
       "          0.00000000e+00,  0.00000000e+00,  0.00000000e+00,\n",
       "         -2.73327626e-03, -1.43299632e-02,  6.73881179e-01,\n",
       "          1.02705870e+00,  8.96135689e-01,  6.03609803e-01,\n",
       "          8.77037905e-01,  7.89629936e-01,  1.88318270e-01,\n",
       "         -2.17889263e-02, -2.46305695e-02,  1.79083095e-01,\n",
       "          8.71884583e-01,  1.00290639e+00,  4.33268808e-01,\n",
       "         -1.38339924e-02, -3.17333878e-03,  0.00000000e+00,\n",
       "          0.00000000e+00,  0.00000000e+00, -2.53149077e-03,\n",
       "         -1.99767157e-02,  7.49223856e-01,  9.98894965e-01,\n",
       "          3.38031029e-01, -4.28002833e-02,  8.72030399e-02,\n",
       "          7.19914284e-01,  8.01862915e-01,  1.01107724e-01,\n",
       "         -1.22369655e-02,  5.44473652e-01,  1.03759816e+00,\n",
       "          7.75933381e-01,  6.46565053e-02, -1.54708838e-02,\n",
       "          3.38201253e-04,  0.00000000e+00,  0.00000000e+00,\n",
       "          0.00000000e+00, -1.54294566e-02,  1.02022399e-01,\n",
       "          8.24540407e-01,  1.03512742e+00,  4.24074993e-01,\n",
       "         -2.73344951e-02, -3.80555556e-02,  3.84925960e-01,\n",
       "          1.02344712e+00,  5.09404105e-01,  5.69259644e-02,\n",
       "          8.03727482e-01,  1.02250623e+00,  3.88147127e-01,\n",
       "         -2.55702104e-02, -5.57967470e-05,  5.61683007e-06,\n",
       "          0.00000000e+00,  0.00000000e+00,  0.00000000e+00,\n",
       "         -2.99343755e-02,  2.39848270e-01,  9.09284256e-01,\n",
       "          9.15168511e-01,  6.23918783e-01,  4.83747706e-02,\n",
       "         -1.47407532e-02,  3.80199883e-02,  6.14168059e-01,\n",
       "          9.68853237e-01,  8.67300529e-01,  1.00169496e+00,\n",
       "          8.04285258e-01,  3.98889670e-02, -6.66136725e-03,\n",
       "          8.78687928e-05,  0.00000000e+00,  0.00000000e+00,\n",
       "          0.00000000e+00,  0.00000000e+00, -2.06832172e-02,\n",
       "          1.63923492e-01,  6.93591401e-01,  2.65333197e-01,\n",
       "         -2.89669288e-02,  3.27646651e-04,  1.69441040e-04,\n",
       "         -1.73090448e-02,  1.01985941e-01,  7.07186768e-01,\n",
       "          1.04159497e+00,  9.64920292e-01,  3.56632506e-01,\n",
       "         -2.57575231e-02, -7.57761438e-04,  0.00000000e+00,\n",
       "          0.00000000e+00,  0.00000000e+00,  0.00000000e+00,\n",
       "          0.00000000e+00, -2.40634299e-02,  1.91413484e-01,\n",
       "          7.95915118e-01,  2.67616507e-01, -1.75285948e-02,\n",
       "          0.00000000e+00,  3.19138072e-05, -5.59963916e-04,\n",
       "         -1.19696010e-02,  1.11193287e-01,  3.86270569e-01,\n",
       "          2.16034824e-01,  3.89551334e-02, -8.17902369e-03,\n",
       "          9.95710784e-05,  0.00000000e+00,  0.00000000e+00,\n",
       "          0.00000000e+00,  0.00000000e+00,  0.00000000e+00,\n",
       "         -5.10199340e-02,  4.44934589e-01,  9.94102294e-01,\n",
       "          1.79060100e-01, -1.38495711e-02,  0.00000000e+00,\n",
       "          0.00000000e+00,  1.48897059e-04,  1.17034314e-04,\n",
       "         -1.75760144e-02, -2.18683842e-02, -2.97442810e-02,\n",
       "         -7.31181917e-03,  1.00367647e-03,  0.00000000e+00,\n",
       "          0.00000000e+00,  0.00000000e+00,  0.00000000e+00,\n",
       "          0.00000000e+00,  0.00000000e+00, -3.54363866e-02,\n",
       "          3.16478826e-01,  5.58350286e-01,  5.14640012e-02,\n",
       "         -5.23667279e-03,  0.00000000e+00,  0.00000000e+00,\n",
       "          0.00000000e+00,  9.95572542e-19,  1.02124183e-06,\n",
       "         -1.12806245e-03, -2.91053922e-05,  2.55310458e-06,\n",
       "          0.00000000e+00,  0.00000000e+00,  0.00000000e+00,\n",
       "          0.00000000e+00,  0.00000000e+00,  0.00000000e+00,\n",
       "          0.00000000e+00, -2.39320420e-03,  2.22417553e-02,\n",
       "          2.23647120e-02, -6.19797399e-03,  2.21352574e-04,\n",
       "          0.00000000e+00,  0.00000000e+00,  0.00000000e+00,\n",
       "          0.00000000e+00,  0.00000000e+00,  0.00000000e+00,\n",
       "          0.00000000e+00,  0.00000000e+00,  0.00000000e+00,\n",
       "          0.00000000e+00,  0.00000000e+00,  0.00000000e+00,\n",
       "          0.00000000e+00,  0.00000000e+00,  0.00000000e+00,\n",
       "          5.17712282e-04, -4.68920207e-03, -6.99908088e-03,\n",
       "         -1.39569717e-05,  3.26797386e-05,  0.00000000e+00,\n",
       "          0.00000000e+00,  0.00000000e+00,  0.00000000e+00,\n",
       "          0.00000000e+00,  0.00000000e+00,  0.00000000e+00,\n",
       "          0.00000000e+00,  0.00000000e+00,  0.00000000e+00,\n",
       "          0.00000000e+00,  0.00000000e+00,  0.00000000e+00,\n",
       "          0.00000000e+00,  0.00000000e+00,  0.00000000e+00,\n",
       "          0.00000000e+00,  0.00000000e+00,  0.00000000e+00,\n",
       "          0.00000000e+00,  0.00000000e+00,  0.00000000e+00,\n",
       "          0.00000000e+00,  0.00000000e+00,  0.00000000e+00,\n",
       "          0.00000000e+00,  0.00000000e+00,  0.00000000e+00,\n",
       "          0.00000000e+00,  0.00000000e+00,  0.00000000e+00,\n",
       "          0.00000000e+00,  0.00000000e+00]])"
      ]
     },
     "execution_count": 44,
     "metadata": {},
     "output_type": "execute_result"
    }
   ],
   "source": [
    "X[2500]"
   ]
  },
  {
   "cell_type": "code",
   "execution_count": null,
   "metadata": {},
   "outputs": [],
   "source": []
  },
  {
   "cell_type": "code",
   "execution_count": null,
   "metadata": {},
   "outputs": [],
   "source": []
  },
  {
   "cell_type": "code",
   "execution_count": null,
   "metadata": {},
   "outputs": [],
   "source": []
  },
  {
   "cell_type": "code",
   "execution_count": null,
   "metadata": {},
   "outputs": [],
   "source": []
  }
 ],
 "metadata": {
  "kernelspec": {
   "display_name": "Python 3",
   "language": "python",
   "name": "python3"
  },
  "language_info": {
   "codemirror_mode": {
    "name": "ipython",
    "version": 3
   },
   "file_extension": ".py",
   "mimetype": "text/x-python",
   "name": "python",
   "nbconvert_exporter": "python",
   "pygments_lexer": "ipython3",
   "version": "3.7.1"
  }
 },
 "nbformat": 4,
 "nbformat_minor": 2
}
